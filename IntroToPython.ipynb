{
 "cells": [
  {
   "cell_type": "markdown",
   "metadata": {
    "id": "Z0WLHMRNDQFk"
   },
   "source": [
    "[← Back to Index](index)\n",
    "\n",
    "# Python Tutorial\n",
    "This notebook provides an overview of and playground for **Python**. It is heavily based on the [Python tutorial](http://cs231n.github.io/python-numpy-tutorial/) by Justin Johnson, Volodymyr Kuleshov, and Isaac Caswell for Stanford's course on [Convolutional Neural Neworks for Visual Recognition](https://cs231n.github.io/). You can view their original raw notebook [here](https://github.com/kuleshov/cs228-material). \n",
    "\n",
    "## Using this notebook\n",
    "The tutorial is best viewed in an interactive Jupyter Notebook environment so you can edit, modify, run, and iterate on the code yourself—the best way to learn! If you're reading a static (non-interactive) version of this page on our website, you can open an interactive version with a single click using [Binder](https://mybinder.org/v2/gh/makeabilitylab/signals/master?filepath=Tutorials%2FIntroToPython.ipynb) or [Colab](https://colab.research.google.com/github/makeabilitylab/signals/blob/master/Tutorials/IntroToPython.ipynb). You can also clone our [GitHub repository](https://github.com/makeabilitylab/signals) and run this notebook locally using [Jupyter Notebook](https://jupyter.org/).\n",
    "\n",
    "\n",
    "## Changelist\n",
    "- Updated all examples to Python 3\n",
    "- Changed string formatting to use string.format\n",
    "- Added additional examples for lists, tuples, dictionaries, and classes\n",
    "- Added class variables vs. class instance variables\n",
    "- Added examples of using \"reflection\" to dynamically invoke methods and member variables\n",
    "- Added examples of how to use random.seed() to generate same series of pseudo-random numbers\n",
    "- Added examples of how to generate lists with random values\n",
    "\n",
    "## About this Notebook\n",
    "\n",
    "This Notebook derives from the [Python tutorial](http://cs231n.github.io/python-numpy-tutorial/) by Justin Johnson, Volodymyr Kuleshov, and Isaac Caswell. Updates were written by Professor Jon E. Froehlich at the University of Washington along with feedback from students. It is made available freely online as an [open educational resource](https://en.wikipedia.org/wiki/Open_educational_resources) at the teaching website: https://makeabilitylab.github.io/physcomp/. \n",
    "\n",
    "The [website](https://github.com/makeabilitylab/physcomp), [Notebook code](https://github.com/makeabilitylab/signals), and [Arduino code](https://github.com/makeabilitylab/arduino) are all open source using the MIT license.\n",
    "\n",
    "Please file a GitHub Issue or Pull Request for changes/comments or email me directly."
   ]
  },
  {
   "cell_type": "markdown",
   "metadata": {
    "id": "N6Q3o8iZDQFu"
   },
   "source": [
    "## Introduction"
   ]
  },
  {
   "cell_type": "markdown",
   "metadata": {
    "id": "F0yoEA5hDQFv"
   },
   "source": [
    "Python is a high-level, dynamically typed programming language. Python code is often said to be almost like pseudocode, since it allows you to express very powerful ideas in very few lines of code while maintaining readability. As an example, here is an implementation of the classic quicksort algorithm in Python:"
   ]
  },
  {
   "cell_type": "code",
   "execution_count": null,
   "metadata": {
    "id": "gbcjZ9fkDQFx",
    "outputId": "2936f097-b01b-464a-8db0-9458ccc7bb23"
   },
   "outputs": [
    {
     "name": "stdout",
     "output_type": "stream",
     "text": [
      "[1, 1, 2, 3, 6, 8, 10]\n"
     ]
    }
   ],
   "source": [
    "def quicksort(arr):\n",
    "    if len(arr) <= 1:\n",
    "        return arr\n",
    "    pivot = arr[len(arr) // 2]\n",
    "    left = [x for x in arr if x < pivot]\n",
    "    middle = [x for x in arr if x == pivot]\n",
    "    right = [x for x in arr if x > pivot]\n",
    "    return quicksort(left) + middle + quicksort(right)\n",
    "\n",
    "print(quicksort([3,6,8,10,1,2,1]))"
   ]
  },
  {
   "cell_type": "markdown",
   "metadata": {
    "id": "g11HF_LRDQF1"
   },
   "source": [
    "### Python Versions\n",
    "There are two (dramatically) different versions of Python: Python 2 and Python 3. For a long time, Python 3 adoption was low largely because of backward compatibility problems with libraries from Python 2. However, this is finally changing. So, in this class, we will be using Python 3 (which is what Anaconda installed if you followed our recommended installation approach). To check which version you are using, drop into Anaconda's terminal and type `python --version`. For example, on my **Windows** box, I open `Anaconda Prompt` and type in:\n",
    "```\n",
    "(base) C:\\Users\\jonf>python --version\n",
    "Python 3.6.7 :: Anaconda, Inc.\n",
    "```\n",
    "\n",
    "On my **Mac**, I open iTerm and type in:\n",
    "```\n",
    "~jonf$ python --version\n",
    "Python 3.6.6 :: Anaconda, Inc.\n",
    "```\n",
    "\n",
    "See [Vinko Kodžoman, Things you’re probably not using in Python 3 – but should](https://datawhatnow.com/things-you-are-probably-not-using-in-python-3-but-should/)"
   ]
  },
  {
   "cell_type": "markdown",
   "metadata": {
    "id": "jMKqNeURDQF3"
   },
   "source": [
    "### Style!\n",
    "If you're like me, you likely bounce between many different programming languages (like C/C++ in Arduino, Java in Processing, and Python in Jupyter Notebook and beyond). I try to adopt the correct styles and coding conventions for each language but often times I fall back to CamelCase or some crazy hybrid. :-/\n",
    "\n",
    "From the [official style guide](https://www.python.org/dev/peps/pep-0008/):\n",
    "\n",
    "> **Function names** should be lowercase, with words separated by underscores as necessary to improve readability.\n",
    ">\n",
    "> **Variable names** follow the same convention as function names.\n",
    ">\n",
    "> mixedCase is allowed only in contexts where that's already the prevailing style (e.g. threading.py), to retain backwards compatibility. for more.\n",
    "\n",
    "You should consult the [official style guide](https://www.python.org/dev/peps/pep-0008/) for more details.\n",
    "\n",
    "I also recently found the [official Google style guide for Python](https://google.github.io/styleguide/pyguide.html)."
   ]
  },
  {
   "cell_type": "markdown",
   "metadata": {
    "id": "nBNNpWJgDQF6"
   },
   "source": [
    "## Basic Data Types"
   ]
  },
  {
   "cell_type": "markdown",
   "metadata": {
    "id": "O4sYCFYmDQF8"
   },
   "source": [
    "### Numbers"
   ]
  },
  {
   "cell_type": "markdown",
   "metadata": {
    "id": "l6pwjTvKDQF-"
   },
   "source": [
    "Integers and floats work as you would expect from other languages:"
   ]
  },
  {
   "cell_type": "code",
   "execution_count": null,
   "metadata": {
    "id": "x1kL4amPDQGA",
    "outputId": "ccda4ee7-39cc-485b-b3e5-0d45919de835"
   },
   "outputs": [
    {
     "name": "stdout",
     "output_type": "stream",
     "text": [
      "3 <class 'int'>\n"
     ]
    }
   ],
   "source": [
    "x = 3\n",
    "print(x, type(x))"
   ]
  },
  {
   "cell_type": "code",
   "execution_count": null,
   "metadata": {
    "id": "_Xn98muVDQGB",
    "outputId": "14b2ce3e-ff30-4d2e-a427-b87a33d1e640"
   },
   "outputs": [
    {
     "name": "stdout",
     "output_type": "stream",
     "text": [
      "4\n",
      "2\n",
      "6\n",
      "9\n"
     ]
    }
   ],
   "source": [
    "print(x + 1)   # Addition;\n",
    "print(x - 1)   # Subtraction;\n",
    "print(x * 2)   # Multiplication;\n",
    "print(x ** 2)  # Exponentiation;"
   ]
  },
  {
   "cell_type": "code",
   "execution_count": null,
   "metadata": {
    "id": "ZOrSJDIgDQGC",
    "outputId": "6a832d72-03bb-4d97-c698-1ff008ced04e"
   },
   "outputs": [
    {
     "name": "stdout",
     "output_type": "stream",
     "text": [
      "4\n",
      "8\n"
     ]
    }
   ],
   "source": [
    "x += 1\n",
    "print(x)  # Prints \"4\"\n",
    "x *= 2\n",
    "print(x)  # Prints \"8\""
   ]
  },
  {
   "cell_type": "code",
   "execution_count": null,
   "metadata": {
    "id": "kpAahL8NDQGD",
    "outputId": "aa7f27c8-cb92-4a17-e758-54f70851acfb"
   },
   "outputs": [
    {
     "name": "stdout",
     "output_type": "stream",
     "text": [
      "<class 'float'>\n",
      "2.5 3.5 5.0 6.25\n"
     ]
    }
   ],
   "source": [
    "y = 2.5\n",
    "print(type(y)) # Prints \"<type 'float'>\"\n",
    "print(y, y + 1, y * 2, y ** 2) # Prints \"2.5 3.5 5.0 6.25\""
   ]
  },
  {
   "cell_type": "markdown",
   "metadata": {
    "id": "8LgRWmd5DQGE"
   },
   "source": [
    "Note that unlike many languages, Python does not have unary increment (`x++`) or decrement (`x--`) operators. Instead, you can do `x += 1` and `x -= 1`\n",
    "\n",
    "Python also has built-in types for long integers and complex numbers; you can find all of the details in the [documentation](https://docs.python.org/3/library/stdtypes.html#numeric-types-int-float-long-complex)."
   ]
  },
  {
   "cell_type": "markdown",
   "metadata": {
    "id": "ZBsMS0CSDQGF"
   },
   "source": [
    "### Booleans"
   ]
  },
  {
   "cell_type": "markdown",
   "metadata": {
    "id": "kXko1wXlDQGF"
   },
   "source": [
    "Python implements all of the usual operators for Boolean logic, but uses English words rather than symbols (`&&`, `||`, etc.):"
   ]
  },
  {
   "cell_type": "code",
   "execution_count": null,
   "metadata": {
    "id": "3S29_v7lDQGG",
    "outputId": "2f296692-6e69-4e52-a51d-bf2d495e7680"
   },
   "outputs": [
    {
     "name": "stdout",
     "output_type": "stream",
     "text": [
      "<class 'bool'>\n"
     ]
    }
   ],
   "source": [
    "t, f = True, False\n",
    "print(type(t)) # Prints \"<type 'bool'>\""
   ]
  },
  {
   "cell_type": "markdown",
   "metadata": {
    "id": "R9JWhaZYDQGH"
   },
   "source": [
    "Now we let's look at the operations:"
   ]
  },
  {
   "cell_type": "code",
   "execution_count": null,
   "metadata": {
    "id": "f9TZ5MUXDQGI",
    "outputId": "b28bcb80-69f2-4d16-be2f-cd7359cef040"
   },
   "outputs": [
    {
     "name": "stdout",
     "output_type": "stream",
     "text": [
      "False\n",
      "True\n",
      "False\n",
      "True\n"
     ]
    }
   ],
   "source": [
    "print(t and f) # Logical AND;\n",
    "print(t or f)  # Logical OR;\n",
    "print(not t)   # Logical NOT;\n",
    "print(t != f)  # Logical XOR;"
   ]
  },
  {
   "cell_type": "markdown",
   "metadata": {
    "id": "BGLUOwRTDQGJ"
   },
   "source": [
    "### Strings"
   ]
  },
  {
   "cell_type": "code",
   "execution_count": null,
   "metadata": {
    "id": "B_1Eiu8mDQGK",
    "outputId": "71ff37db-5811-45e2-d946-0aa309930241"
   },
   "outputs": [
    {
     "name": "stdout",
     "output_type": "stream",
     "text": [
      "hello 5\n"
     ]
    }
   ],
   "source": [
    "hello = 'hello'   # String literals can use single quotes\n",
    "world = \"world\"   # or double quotes; it does not matter.\n",
    "print(hello, len(hello))"
   ]
  },
  {
   "cell_type": "code",
   "execution_count": null,
   "metadata": {
    "id": "yeEn2r08DQGK",
    "outputId": "47399c5d-d13c-4044-f0dc-e5d0755dd6d1"
   },
   "outputs": [
    {
     "name": "stdout",
     "output_type": "stream",
     "text": [
      "hello world\n"
     ]
    }
   ],
   "source": [
    "hw = hello + ' ' + world  # String concatenation\n",
    "print(hw)  # prints \"hello world\""
   ]
  },
  {
   "cell_type": "code",
   "execution_count": null,
   "metadata": {
    "id": "N2D8M83hDQGM",
    "outputId": "25991181-62c4-4924-8e03-777ae79f4b52"
   },
   "outputs": [
    {
     "name": "stdout",
     "output_type": "stream",
     "text": [
      "hello world 12\n"
     ]
    }
   ],
   "source": [
    "hw12 = '%s %s %d' % (hello, world, 12)  # sprintf style string formatting\n",
    "print(hw12)  # prints \"hello world 12\""
   ]
  },
  {
   "cell_type": "markdown",
   "metadata": {
    "id": "ajpALVdbDQGN"
   },
   "source": [
    "I typically use the format function for formatting strings, which is far more flexible and alot like [.NET's String.Format method](https://docs.microsoft.com/en-us/dotnet/api/system.string.format?view=netframework-4.8) (which I've always found quite elegant). See: https://pyformat.info/"
   ]
  },
  {
   "cell_type": "code",
   "execution_count": null,
   "metadata": {
    "id": "gp4DN4LbDQGO",
    "outputId": "b12eb72c-96ab-4e90-f1af-2f6de3366e2c"
   },
   "outputs": [
    {
     "name": "stdout",
     "output_type": "stream",
     "text": [
      "x=8 y=2.5 'hello world' pi=3.14159\n"
     ]
    }
   ],
   "source": [
    "import math\n",
    "s = \"x={} y={} '{} {}' pi={:1.5f}\".format(x, y, hello, world, math.pi)\n",
    "print(s)"
   ]
  },
  {
   "cell_type": "code",
   "execution_count": null,
   "metadata": {
    "id": "R-XUW9X8DQGP",
    "outputId": "22551460-4ebe-4f1c-f49b-d28ce07c175e"
   },
   "outputs": [
    {
     "name": "stdout",
     "output_type": "stream",
     "text": [
      "x=8 y=2.5\n"
     ]
    }
   ],
   "source": [
    "# You can also do this out-of-order using index-based positional formatting\n",
    "s = \"x={1} y={0}\".format(y, x)\n",
    "print(s)"
   ]
  },
  {
   "cell_type": "markdown",
   "metadata": {
    "id": "H8khtOf8DQGQ"
   },
   "source": [
    "String objects have a bunch of useful methods; for example:"
   ]
  },
  {
   "cell_type": "code",
   "execution_count": null,
   "metadata": {
    "id": "_BT1ib_MDQGQ",
    "outputId": "7f685897-3070-48ec-e596-e51b41d10238"
   },
   "outputs": [
    {
     "name": "stdout",
     "output_type": "stream",
     "text": [
      "Hello\n",
      "HELLO\n",
      "  hello\n",
      " hello \n",
      "he(ell)(ell)o\n",
      "world\n"
     ]
    }
   ],
   "source": [
    "s = \"hello\"\n",
    "print s.capitalize()  # Capitalize a string; prints \"Hello\"\n",
    "print s.upper()       # Convert a string to uppercase; prints \"HELLO\"\n",
    "print s.rjust(7)      # Right-justify a string, padding with spaces; prints \"  hello\"\n",
    "print s.center(7)     # Center a string, padding with spaces; prints \" hello \"\n",
    "print s.replace('l', '(ell)')  # Replace all instances of one substring with another;\n",
    "                               # prints \"he(ell)(ell)o\"\n",
    "print '  world '.strip()  # Strip leading and trailing whitespace; prints \"world\""
   ]
  },
  {
   "cell_type": "markdown",
   "metadata": {
    "id": "mHmYFwe2DQGR"
   },
   "source": [
    "You can find a list of all string methods in the [documentation](https://docs.python.org/3/library/stdtypes.html#string-methods)."
   ]
  },
  {
   "cell_type": "markdown",
   "metadata": {
    "id": "eBNNlEVwDQGR"
   },
   "source": [
    "## Printing and string formatting\n",
    "\n",
    "There are many ways to format and print variables. The most basic is via a comma separated list (note that spaces are automatically added):"
   ]
  },
  {
   "cell_type": "code",
   "execution_count": null,
   "metadata": {
    "id": "DgMWOko2DQGR",
    "outputId": "25c2c716-7b27-4014-d4e9-d107f1e96724"
   },
   "outputs": [
    {
     "name": "stdout",
     "output_type": "stream",
     "text": [
      "The sum of a + b is 5.641592653589793 and the product of a * b is 7.853981633974483\n"
     ]
    }
   ],
   "source": [
    "import math \n",
    "\n",
    "a = 2.5\n",
    "b = math.pi\n",
    "sum_ab = a + b\n",
    "product_ab = a * b\n",
    "print(\"The sum of a + b is\", sum_ab, \"and the product of a * b is\", product_ab)"
   ]
  },
  {
   "cell_type": "markdown",
   "metadata": {
    "id": "Q-NUksKyDQGS"
   },
   "source": [
    "I tend to use [string formatting](https://docs.python.org/3.4/library/string.html#format-string-syntax), which provides more control of the output:"
   ]
  },
  {
   "cell_type": "code",
   "execution_count": null,
   "metadata": {
    "id": "ELv9dFavDQGS",
    "outputId": "f95e394f-b212-4d53-ce44-cc5ca30710b2"
   },
   "outputs": [
    {
     "name": "stdout",
     "output_type": "stream",
     "text": [
      "The sum of a + b is 5.641592653589793 and the product of a * b is 7.853981633974483\n",
      "The product of a * b is 7.853981633974483\n",
      "The product of a * b is 7.85\n"
     ]
    }
   ],
   "source": [
    "# Use brackets to refer to vars in the format list\n",
    "print(\"The sum of a + b is {} and the product of a * b is {}\".format(sum_ab, product_ab))\n",
    "\n",
    "# You can reference the brackets with indices\n",
    "print(\"The product of a * b is {1}\".format(sum_ab, product_ab))\n",
    "\n",
    "# You can also add in formatting into the brackets\n",
    "print(\"The product of a * b is {1:0.2f}\".format(sum_ab, product_ab))"
   ]
  },
  {
   "cell_type": "markdown",
   "metadata": {
    "id": "ak3g3NTQDQGS"
   },
   "source": [
    "A more compact (and direct) way of using string formatting is via [f-strings](https://www.python.org/dev/peps/pep-0498/)—that is, prefix your strings with the letter `f` and then you can refer to variables directly in brackets and the same format syntax applies:"
   ]
  },
  {
   "cell_type": "code",
   "execution_count": null,
   "metadata": {
    "id": "AIRV3JDpDQGS",
    "outputId": "19761f7a-ad81-41e3-d1c1-dff40155a7a5"
   },
   "outputs": [
    {
     "name": "stdout",
     "output_type": "stream",
     "text": [
      "The sum of a + b is 5.641592653589793 and the product of a * b is 7.853981633974483\n",
      "The product of a * b is 7.853981633974483\n",
      "The product of a * b is 7.85\n"
     ]
    }
   ],
   "source": [
    "print(f\"The sum of a + b is {sum_ab} and the product of a * b is {product_ab}\")\n",
    "\n",
    "# You can reference the brackets with indices\n",
    "print(f\"The product of a * b is {product_ab}\")\n",
    "\n",
    "# You can also add in formatting into the brackets\n",
    "print(f\"The product of a * b is {product_ab:0.2f}\")"
   ]
  },
  {
   "cell_type": "markdown",
   "metadata": {
    "id": "zirwmzOlDQGT"
   },
   "source": [
    "## Containers"
   ]
  },
  {
   "cell_type": "markdown",
   "metadata": {
    "id": "w2rhOXV7DQGT"
   },
   "source": [
    "Python includes several built-in container types: [lists](https://docs.python.org/3/tutorial/datastructures.html#more-on-lists), [dictionaries](https://docs.python.org/3/tutorial/datastructures.html#dictionaries), [sets](https://docs.python.org/3/library/stdtypes.html#set-types-set-frozenset), and [tuples](https://docs.python.org/3/library/stdtypes.html#tuples). Python does not have \"arrays\" *per se*; instead, use lists."
   ]
  },
  {
   "cell_type": "markdown",
   "metadata": {
    "id": "lltT1-BrDQGU"
   },
   "source": [
    "### Lists"
   ]
  },
  {
   "cell_type": "markdown",
   "metadata": {
    "id": "5mpVRN_YDQGU"
   },
   "source": [
    "A [list](https://docs.python.org/3/tutorial/datastructures.html#more-on-lists) is the Python equivalent of an array, but is resizeable and can contain elements of different types:"
   ]
  },
  {
   "cell_type": "code",
   "execution_count": null,
   "metadata": {
    "id": "By-saVcADQGU",
    "outputId": "c01499ec-de4a-49cb-e780-7eead84f42c3"
   },
   "outputs": [
    {
     "name": "stdout",
     "output_type": "stream",
     "text": [
      "[3, 1, 2]\n",
      "2\n",
      "2\n"
     ]
    }
   ],
   "source": [
    "xs = [3, 1, 2]    # Create a list\n",
    "print(xs)\n",
    "print(xs[2])\n",
    "print(xs[-1])     # Negative indices count from the end of the list; prints \"2\""
   ]
  },
  {
   "cell_type": "code",
   "execution_count": null,
   "metadata": {
    "id": "FbWtcQK8DQGV",
    "outputId": "b3d33df9-adc9-423c-87e3-1158eab30c59"
   },
   "outputs": [
    {
     "name": "stdout",
     "output_type": "stream",
     "text": [
      "[3, 1, 'foo']\n"
     ]
    }
   ],
   "source": [
    "xs[2] = 'foo'    # Lists can contain elements of different types\n",
    "print(xs)"
   ]
  },
  {
   "cell_type": "code",
   "execution_count": null,
   "metadata": {
    "id": "p8ticFXXDQGV",
    "outputId": "e184bd42-907a-41fe-8f4e-b776fa986f09"
   },
   "outputs": [
    {
     "name": "stdout",
     "output_type": "stream",
     "text": [
      "[3, 1, 'foo', 'bar', 'bar']\n",
      "[3, 1, 'foo', 'bar', 'bar', 'hello']\n"
     ]
    }
   ],
   "source": [
    "xs.append('bar') # Add a new element to the end of the list\n",
    "print(xs) \n",
    "\n",
    "# append is equivalent to a[len(a):] = [x].\n",
    "xs[len(xs):] = [\"hello\"]\n",
    "print(xs)"
   ]
  },
  {
   "cell_type": "code",
   "execution_count": null,
   "metadata": {
    "id": "0YD9p07oDQGW",
    "outputId": "3394402a-debe-4762-975f-4e5b1adfce28"
   },
   "outputs": [
    {
     "name": "stdout",
     "output_type": "stream",
     "text": [
      "bar [3, 1, 'foo']\n"
     ]
    }
   ],
   "source": [
    "x = xs.pop()     # Remove and return the last element of the list\n",
    "print(x, xs) "
   ]
  },
  {
   "cell_type": "markdown",
   "metadata": {
    "id": "-D9Hb4TnDQGW"
   },
   "source": [
    "An example that uses most of the list methods:"
   ]
  },
  {
   "cell_type": "code",
   "execution_count": null,
   "metadata": {
    "id": "x4gvel1mDQGW",
    "outputId": "95760123-1bf0-4a19-e2cd-58fa16fec4b7"
   },
   "outputs": [
    {
     "name": "stdout",
     "output_type": "stream",
     "text": [
      "The num of apples:  2\n",
      "The num of tangerines:  0\n",
      "The num of bananas:  2\n",
      "The first 'banana' index:  3\n",
      "The second 'banana' index:  6\n",
      "\n",
      "Full fruit list...\n",
      "['orange', 'apple', 'pear', 'banana', 'kiwi', 'apple', 'banana']\n",
      "\n",
      "Reversing fruits...\n",
      "['banana', 'apple', 'kiwi', 'banana', 'pear', 'apple', 'orange']\n",
      "\n",
      "Appending grape...\n",
      "['banana', 'apple', 'kiwi', 'banana', 'pear', 'apple', 'orange', 'grape']\n",
      "\n",
      "Sorting fruits...\n",
      "['apple', 'apple', 'banana', 'banana', 'grape', 'kiwi', 'orange', 'pear']\n",
      "\n",
      "Popping the last fruit...\n",
      "last_fruit = pear\n",
      "['apple', 'apple', 'banana', 'banana', 'grape', 'kiwi', 'orange']\n"
     ]
    }
   ],
   "source": [
    "fruits = ['orange', 'apple', 'pear', 'banana', 'kiwi', 'apple', 'banana']\n",
    "print(\"The num of apples: \", fruits.count('apple'))\n",
    "print(\"The num of tangerines: \", fruits.count('tangerine'))\n",
    "print(\"The num of bananas: \", fruits.count('banana'))\n",
    "\n",
    "banana_index = fruits.index('banana')\n",
    "print(\"The first 'banana' index: \", banana_index)\n",
    "print(\"The second 'banana' index: \", fruits.index('banana', banana_index + 1))\n",
    "\n",
    "print(\"\\nFull fruit list...\")\n",
    "print(fruits)\n",
    "\n",
    "fruits.reverse()\n",
    "print(\"\\nReversing fruits...\")\n",
    "print(fruits)\n",
    "\n",
    "print(\"\\nAppending grape...\")\n",
    "fruits.append('grape')\n",
    "print(fruits)\n",
    "\n",
    "fruits.sort()\n",
    "print(\"\\nSorting fruits...\")\n",
    "print(fruits)\n",
    "\n",
    "print(\"\\nPopping the last fruit...\")\n",
    "last_fruit = fruits.pop()\n",
    "print(\"last_fruit =\", last_fruit)\n",
    "print(fruits)"
   ]
  },
  {
   "cell_type": "markdown",
   "metadata": {
    "id": "kCy8siCcDQGX"
   },
   "source": [
    "Playing around with sorting lists using lambdas (in this case, lists of tuples)"
   ]
  },
  {
   "cell_type": "code",
   "execution_count": null,
   "metadata": {
    "id": "6BtI8VLRDQGX",
    "outputId": "363aa104-2908-431d-fcc1-c694caac15e2"
   },
   "outputs": [
    {
     "name": "stdout",
     "output_type": "stream",
     "text": [
      "[('c', 2), ('d', 6), ('d', 1), ('z', 44), ('a', 11)]\n",
      "[('a', 11), ('c', 2), ('d', 6), ('d', 1), ('z', 44)]\n",
      "[('d', 1), ('c', 2), ('d', 6), ('a', 11), ('z', 44)]\n",
      "[('z', 44), ('d', 1), ('d', 6), ('c', 2), ('a', 11)]\n",
      "[('z', 44), ('a', 11), ('d', 6), ('c', 2), ('d', 1)]\n"
     ]
    }
   ],
   "source": [
    "l = [(\"c\", 2), (\"d\", 6), (\"d\", 1), (\"z\", 44), (\"a\",11)]\n",
    "print(l)\n",
    "l.sort(key=lambda x: x[0]) # sort by the first term in the tuple\n",
    "print(l)\n",
    "l.sort(key=lambda x: x[1]) # sort by the second term in the tuple\n",
    "print(l)\n",
    "l.sort(key=lambda x: x[0], reverse=True) # reverse sort by the first term in the tuple\n",
    "print(l)\n",
    "l.sort(key=lambda x: x[1], reverse=True) # reverse sort by the second term in the tuple\n",
    "print(l)"
   ]
  },
  {
   "cell_type": "markdown",
   "metadata": {
    "id": "dLk8pZNODQGX"
   },
   "source": [
    "#### List slicing"
   ]
  },
  {
   "cell_type": "markdown",
   "metadata": {
    "id": "-flwt5XtDQGX"
   },
   "source": [
    "In addition to accessing list elements one at a time, Python provides concise syntax to access sublists; this is known as slicing—a very powerful (though ocassionally confusing) technique:"
   ]
  },
  {
   "cell_type": "code",
   "execution_count": null,
   "metadata": {
    "id": "BYdjW2JcDQGY",
    "outputId": "5e6909f9-70f9-48d3-ea8c-9792dbda8390"
   },
   "outputs": [
    {
     "name": "stdout",
     "output_type": "stream",
     "text": [
      "[0, 1, 2, 3, 4]\n",
      "[2, 3]\n",
      "[2, 3, 4]\n",
      "[0, 1]\n",
      "[0, 1, 2, 3, 4]\n",
      "[0, 1, 2, 3]\n",
      "[0, 1, 8, 9, 4]\n"
     ]
    }
   ],
   "source": [
    "nums = list(range(5))     # range is a built-in function that creates a list of integers\n",
    "print(nums)         # Prints \"[0, 1, 2, 3, 4]\"\n",
    "print(nums[2:4])    # Get a slice from index 2 to 4 (exclusive); prints \"[2, 3]\"\n",
    "print(nums[2:])     # Get a slice from index 2 to the end; prints \"[2, 3, 4]\"\n",
    "print(nums[:2])     # Get a slice from the start to index 2 (exclusive); prints \"[0, 1]\"\n",
    "print(nums[:])      # Get a slice of the whole list; prints [\"0, 1, 2, 3, 4]\"\n",
    "print(nums[:-1])    # Slice indices can be negative; prints [\"0, 1, 2, 3]\"\n",
    "nums[2:4] = [8, 9]  # Assign a new sublist to a slice\n",
    "print(nums)         # Prints \"[0, 1, 8, 9, 4]\""
   ]
  },
  {
   "cell_type": "code",
   "execution_count": null,
   "metadata": {
    "id": "gv56lRoODQGY",
    "outputId": "713bd952-9f43-44c7-a116-6c6806d1cf0e"
   },
   "outputs": [
    {
     "name": "stdout",
     "output_type": "stream",
     "text": [
      "[1, 2]\n",
      "[4, 5]\n",
      "[1, 2, 4, 5]\n"
     ]
    }
   ],
   "source": [
    "test_list = [1, 2, 3, 4, 5]\n",
    "index = 2\n",
    "print(test_list[0:index])\n",
    "print(test_list[(index + 1):5])\n",
    "print(test_list[0:index] + test_list[(index + 1):5])"
   ]
  },
  {
   "cell_type": "markdown",
   "metadata": {
    "id": "h3dXnhWzDQGY"
   },
   "source": [
    "#### List loops"
   ]
  },
  {
   "cell_type": "markdown",
   "metadata": {
    "id": "Cdr0rlOIDQGZ"
   },
   "source": [
    "You can loop over the elements of a list like this:"
   ]
  },
  {
   "cell_type": "code",
   "execution_count": null,
   "metadata": {
    "id": "a1dLZrybDQGZ",
    "outputId": "71b581a6-ca3f-40fa-8cfb-b59b3f4d89ac"
   },
   "outputs": [
    {
     "name": "stdout",
     "output_type": "stream",
     "text": [
      "cat\n",
      "dog\n",
      "monkey\n"
     ]
    }
   ],
   "source": [
    "animals = ['cat', 'dog', 'monkey']\n",
    "for animal in animals:\n",
    "    print(animal)"
   ]
  },
  {
   "cell_type": "markdown",
   "metadata": {
    "id": "VaNE41xaDQGa"
   },
   "source": [
    "If you want access to the index of each element within the body of a loop, use the built-in `enumerate` function:"
   ]
  },
  {
   "cell_type": "code",
   "execution_count": null,
   "metadata": {
    "id": "EVZyMLxJDQGa",
    "outputId": "61028ee6-c78d-4a09-e564-661871969394"
   },
   "outputs": [
    {
     "name": "stdout",
     "output_type": "stream",
     "text": [
      "0: cat\n",
      "1: dog\n",
      "2: monkey\n"
     ]
    }
   ],
   "source": [
    "animals = ['cat', 'dog', 'monkey']\n",
    "for idx, animal in enumerate(animals):\n",
    "    print('{}: {}'.format(idx, animal))"
   ]
  },
  {
   "cell_type": "markdown",
   "metadata": {
    "id": "A0aDexVDDQGa"
   },
   "source": [
    "This may not be particularly Pythonic but you can also loop like this:"
   ]
  },
  {
   "cell_type": "code",
   "execution_count": null,
   "metadata": {
    "id": "7_cC25eEDQGb",
    "outputId": "0b503751-3859-4262-f652-7ce9785ee8ee"
   },
   "outputs": [
    {
     "name": "stdout",
     "output_type": "stream",
     "text": [
      "0: cat\n",
      "1: dog\n",
      "2: monkey\n"
     ]
    }
   ],
   "source": [
    "animals = ['cat', 'dog', 'monkey']\n",
    "for i in range(0, len(animals)):\n",
    "    print('{}: {}'.format(i, animals[i]))"
   ]
  },
  {
   "cell_type": "markdown",
   "metadata": {
    "id": "OPx_KLUkDQGb"
   },
   "source": [
    "#### List comprehensions"
   ]
  },
  {
   "cell_type": "markdown",
   "metadata": {
    "id": "mXOo0PP0DQGc"
   },
   "source": [
    "List [comprehensions](https://docs.python.org/3/tutorial/datastructures.html#list-comprehensions) are a powerful, compact expression in Python. When programming, frequently we want to transform one type of data into another. As a simple example, consider the following code that computes square numbers:"
   ]
  },
  {
   "cell_type": "code",
   "execution_count": null,
   "metadata": {
    "id": "PhuGihcVDQGc",
    "outputId": "2b3a84b2-5309-4d8b-f641-52e1d5b12640"
   },
   "outputs": [
    {
     "name": "stdout",
     "output_type": "stream",
     "text": [
      "[0, 1, 4, 9, 16]\n"
     ]
    }
   ],
   "source": [
    "nums = [0, 1, 2, 3, 4]\n",
    "squares = []\n",
    "for x in nums:\n",
    "    squares.append(x ** 2)\n",
    "print(squares)"
   ]
  },
  {
   "cell_type": "markdown",
   "metadata": {
    "id": "lbJvLAe2DQGc"
   },
   "source": [
    "You can make this code simpler using a list comprehension:"
   ]
  },
  {
   "cell_type": "code",
   "execution_count": null,
   "metadata": {
    "id": "OAQglrqHDQGc",
    "outputId": "fd3d5e29-b215-43db-e005-9f1b0594c0ea"
   },
   "outputs": [
    {
     "name": "stdout",
     "output_type": "stream",
     "text": [
      "[0, 1, 4, 9, 16]\n"
     ]
    }
   ],
   "source": [
    "nums = [0, 1, 2, 3, 4]\n",
    "squares = list(map(lambda x: x**2, nums))\n",
    "print(squares)"
   ]
  },
  {
   "cell_type": "markdown",
   "metadata": {
    "id": "_AoxJOCHDQGd"
   },
   "source": [
    "Or, equivalently (and even more compactly and readable):"
   ]
  },
  {
   "cell_type": "code",
   "execution_count": null,
   "metadata": {
    "id": "45Lp68Z6DQGd",
    "outputId": "a5843422-d507-49b8-ed7c-7abbe71d16ca"
   },
   "outputs": [
    {
     "name": "stdout",
     "output_type": "stream",
     "text": [
      "[0, 1, 4, 9, 16]\n"
     ]
    }
   ],
   "source": [
    "nums = [0, 1, 2, 3, 4]\n",
    "squares = [x ** 2 for x in nums]\n",
    "print(squares)"
   ]
  },
  {
   "cell_type": "markdown",
   "metadata": {
    "id": "_PPd-5BfDQGe"
   },
   "source": [
    "List comprehensions can also contain conditions:"
   ]
  },
  {
   "cell_type": "code",
   "execution_count": null,
   "metadata": {
    "id": "oPATzi3tDQGe",
    "outputId": "27d00a1a-4d80-4b68-d0c9-118cf2369a1e"
   },
   "outputs": [
    {
     "name": "stdout",
     "output_type": "stream",
     "text": [
      "[0, 4, 16]\n"
     ]
    }
   ],
   "source": [
    "nums = [0, 1, 2, 3, 4]\n",
    "even_squares = [x ** 2 for x in nums if x % 2 == 0]\n",
    "print(even_squares)"
   ]
  },
  {
   "cell_type": "markdown",
   "metadata": {
    "id": "lNHKPyWvDQGf"
   },
   "source": [
    "#### Generating a random list\n",
    "You can also use list comprehension to make a list of random values"
   ]
  },
  {
   "cell_type": "code",
   "execution_count": null,
   "metadata": {
    "id": "ChwCj1tjDQGf",
    "outputId": "f9983988-98fa-4270-9723-1f1078df802a"
   },
   "outputs": [
    {
     "name": "stdout",
     "output_type": "stream",
     "text": [
      "[2, 3, 0, 7]\n"
     ]
    }
   ],
   "source": [
    "import random \n",
    "num_rand_data_points = 4\n",
    "rand_vals = [random.randrange(0, 9, 1) for i in range(num_rand_data_points)]\n",
    "print(rand_vals)"
   ]
  },
  {
   "cell_type": "markdown",
   "metadata": {
    "id": "qtJ4tBmuDQGg"
   },
   "source": [
    "You can also use [`random.sample`](https://docs.python.org/3/library/random.html#random.sample)"
   ]
  },
  {
   "cell_type": "code",
   "execution_count": null,
   "metadata": {
    "id": "RwkYL_hHDQGg",
    "outputId": "7a416cd7-9fa7-4d2e-e98d-109c978327b1"
   },
   "outputs": [
    {
     "name": "stdout",
     "output_type": "stream",
     "text": [
      "[6, 3, 1, 7]\n"
     ]
    }
   ],
   "source": [
    "rand_vals = random.sample(range(0, 9), 4)\n",
    "print(rand_vals)"
   ]
  },
  {
   "cell_type": "markdown",
   "metadata": {
    "id": "rfGs6ZV0DQGh"
   },
   "source": [
    "### Dictionaries"
   ]
  },
  {
   "cell_type": "markdown",
   "metadata": {
    "id": "lcxChXVqDQGh"
   },
   "source": [
    "A Python [dictionary](https://docs.python.org/3/library/stdtypes.html#dict) stores (key, value) pairs, similar to a `Map` in Java or an object in Javascript. You can use it like this:"
   ]
  },
  {
   "cell_type": "code",
   "execution_count": null,
   "metadata": {
    "id": "g1vo_JGdDQGi",
    "outputId": "2258eabd-75ee-467d-c886-e9f9dee09ede"
   },
   "outputs": [
    {
     "name": "stdout",
     "output_type": "stream",
     "text": [
      "cute\n",
      "True\n"
     ]
    }
   ],
   "source": [
    "d = {'cat': 'cute', 'dog': 'furry'}  # Create a new dictionary with some data\n",
    "print(d['cat'])       # Get an entry from a dictionary; prints \"cute\"\n",
    "print('cat' in d)     # Check if a dictionary has a given key; prints \"True\""
   ]
  },
  {
   "cell_type": "code",
   "execution_count": null,
   "metadata": {
    "id": "lgCCgELODQGj",
    "outputId": "9cda540a-b078-440b-cf8e-956aaba0bdfe"
   },
   "outputs": [
    {
     "name": "stdout",
     "output_type": "stream",
     "text": [
      "wet\n"
     ]
    }
   ],
   "source": [
    "d['fish'] = 'wet'    # Set an entry in a dictionary\n",
    "print(d['fish'])      # Prints \"wet\""
   ]
  },
  {
   "cell_type": "code",
   "execution_count": null,
   "metadata": {
    "id": "dBLpq89oDQGj",
    "outputId": "cdb76b97-1983-45c7-862a-81c7809936e9"
   },
   "outputs": [
    {
     "ename": "KeyError",
     "evalue": "'monkey'",
     "output_type": "error",
     "traceback": [
      "\u001b[1;31m---------------------------------------------------------------------------\u001b[0m",
      "\u001b[1;31mKeyError\u001b[0m                                  Traceback (most recent call last)",
      "\u001b[1;32m<ipython-input-56-78fc9745d9cf>\u001b[0m in \u001b[0;36m<module>\u001b[1;34m()\u001b[0m\n\u001b[1;32m----> 1\u001b[1;33m \u001b[0mprint\u001b[0m\u001b[1;33m(\u001b[0m\u001b[0md\u001b[0m\u001b[1;33m[\u001b[0m\u001b[1;34m'monkey'\u001b[0m\u001b[1;33m]\u001b[0m\u001b[1;33m)\u001b[0m  \u001b[1;31m# KeyError: 'monkey' not a key of d\u001b[0m\u001b[1;33m\u001b[0m\u001b[1;33m\u001b[0m\u001b[0m\n\u001b[0m",
      "\u001b[1;31mKeyError\u001b[0m: 'monkey'"
     ]
    }
   ],
   "source": [
    "print(d['monkey'])  # KeyError: 'monkey' not a key of d"
   ]
  },
  {
   "cell_type": "code",
   "execution_count": null,
   "metadata": {
    "id": "E3duTsWoDQGk",
    "outputId": "14181dd7-8cda-43dd-91d8-7c16f975fd2e"
   },
   "outputs": [
    {
     "name": "stdout",
     "output_type": "stream",
     "text": [
      "N/A\n",
      "wet\n"
     ]
    }
   ],
   "source": [
    "print(d.get('monkey', 'N/A'))  # Get an element with a default; prints \"N/A\"\n",
    "print(d.get('fish', 'N/A'))    # Get an element with a default; prints \"wet\" (because we mapped this earlier)"
   ]
  },
  {
   "cell_type": "code",
   "execution_count": null,
   "metadata": {
    "id": "rGOmUrTEDQGk",
    "outputId": "04bd2b45-3256-427d-c9fd-e88d94c91f6f"
   },
   "outputs": [
    {
     "name": "stdout",
     "output_type": "stream",
     "text": [
      "N/A\n"
     ]
    }
   ],
   "source": [
    "d['fish'] = 'wet'           # Set an entry in a dictionary\n",
    "del d['fish']               # Remove an element from a dictionary\n",
    "print(d.get('fish', 'N/A')) # \"fish\" is no longer a key; prints \"N/A\""
   ]
  },
  {
   "cell_type": "markdown",
   "metadata": {
    "id": "VAx33QbuDQGl"
   },
   "source": [
    "To iterate over the keys in a dictionary, you can use the basic for loop construction:"
   ]
  },
  {
   "cell_type": "code",
   "execution_count": null,
   "metadata": {
    "id": "oLneq15_DQGl",
    "outputId": "15d31b78-9979-4c1b-c337-aa312d8ebb04"
   },
   "outputs": [
    {
     "name": "stdout",
     "output_type": "stream",
     "text": [
      "A person has 2 legs\n",
      "A cat has 4 legs\n",
      "A spider has 8 legs\n"
     ]
    }
   ],
   "source": [
    "d = {'person': 2, 'cat': 4, 'spider': 8}\n",
    "for animal in d:\n",
    "    legs = d[animal]\n",
    "    print('A {} has {} legs'.format(animal, legs))"
   ]
  },
  {
   "cell_type": "markdown",
   "metadata": {
    "id": "elqP6n9BDQGm"
   },
   "source": [
    "If you want access to keys and their corresponding values, use the items method:"
   ]
  },
  {
   "cell_type": "code",
   "execution_count": null,
   "metadata": {
    "id": "rqzQjBGQDQGm",
    "outputId": "eae888f3-ac9e-4eb6-d6d9-df512e29d32e"
   },
   "outputs": [
    {
     "name": "stdout",
     "output_type": "stream",
     "text": [
      "A person has 2 legs\n",
      "A cat has 4 legs\n",
      "A spider has 8 legs\n"
     ]
    }
   ],
   "source": [
    "d = {'person': 2, 'cat': 4, 'spider': 8}\n",
    "for animal, legs in d.items():\n",
    "    print('A {} has {} legs'.format(animal, legs))"
   ]
  },
  {
   "cell_type": "markdown",
   "metadata": {
    "id": "kvnD2NOpDQGn"
   },
   "source": [
    "**Deleting** an item out of a dictionary"
   ]
  },
  {
   "cell_type": "code",
   "execution_count": null,
   "metadata": {
    "id": "y62014lHDQGn",
    "outputId": "7166ba3e-cd0c-4b74-cba1-58d13a2ea7c5"
   },
   "outputs": [
    {
     "name": "stdout",
     "output_type": "stream",
     "text": [
      "['a', 'c', 'd']\n",
      "['d', 'a', 'c']\n",
      "['d', 'c']\n"
     ]
    }
   ],
   "source": [
    "import random\n",
    "testDict = {\"a\":1, \"c\":3, \"d\":4}\n",
    "a = list(testDict.keys())\n",
    "print(a)\n",
    "random.shuffle(a)\n",
    "print(a)\n",
    "del a[1]\n",
    "print(a)"
   ]
  },
  {
   "cell_type": "markdown",
   "metadata": {
    "id": "QRHYKoiiDQGo"
   },
   "source": [
    "#### Dictionary comprehensions\n",
    "These are similar to list comprehensions, but allow you to easily construct dictionaries. For example:"
   ]
  },
  {
   "cell_type": "code",
   "execution_count": null,
   "metadata": {
    "id": "5bFW0wq0DQGo",
    "outputId": "0b625ade-fe4f-4877-87ab-3398c7d14d0f"
   },
   "outputs": [
    {
     "name": "stdout",
     "output_type": "stream",
     "text": [
      "{0: 0, 2: 4, 4: 16}\n"
     ]
    }
   ],
   "source": [
    "nums = [0, 1, 2, 3, 4]\n",
    "even_num_to_square = {x: x ** 2 for x in nums if x % 2 == 0}\n",
    "print(even_num_to_square)"
   ]
  },
  {
   "cell_type": "markdown",
   "metadata": {
    "id": "y4KJN_ZzDQGp"
   },
   "source": [
    "#### Shallow vs. deep copies\n",
    "This is relevant to all container types but showing here for dictionaries."
   ]
  },
  {
   "cell_type": "code",
   "execution_count": null,
   "metadata": {
    "id": "9_HICFbrDQGp",
    "outputId": "9ed2bc57-2f73-43ed-c7dc-d146ea73187a"
   },
   "outputs": [
    {
     "name": "stdout",
     "output_type": "stream",
     "text": [
      "{'a': [1, 2], 'c': [3, 4]}\n",
      "{'a': [1, 2, 99], 'c': [3, 4, 44], 'b': [2, 3], 'z': [26]}\n",
      "{'a': [1, 2, 99], 'c': [3, 4, 44], 'b': [2, 3], 'z': [26]}\n",
      "{'a': [1, 2, 99], 'c': [3, 4, 44], 'b': [2, 3], 'z': [26]}\n",
      "{'a': [1, 2, 99], 'c': [3, 4, 44], 'b': [2, 3], 'z': [26], 'n': [14, 15]}\n"
     ]
    }
   ],
   "source": [
    "# playing around with shallow vs. deep copies in python\n",
    "# see shallow copy: https://stackoverflow.com/a/3975388\n",
    "import copy\n",
    "testDict = {\"a\":[1, 2], \"c\":[3, 4]}\n",
    "print(testDict) # prints {'a': [1, 2], 'c': [3, 4]}\n",
    "testDict['b'] = [2, 3]\n",
    "\n",
    "newDict = testDict # just creates a new reference to this dict\n",
    "newDict[\"z\"] = [26]\n",
    "newDict[\"a\"].append(99)\n",
    "\n",
    "newDict2 = testDict.copy() # again, just creates a new reference to this dict\n",
    "newDict2[\"c\"].append(44)\n",
    "\n",
    "newDict3 = copy.deepcopy(testDict) # makes a deep copy of the values\n",
    "newDict3[\"n\"] = [14, 15]\n",
    "\n",
    "print(testDict) # prints {'a': [1, 2, 99], 'c': [3, 4, 44], 'b': [2, 3], 'z': [26]}\n",
    "print(newDict)  # prints {'a': [1, 2, 99], 'c': [3, 4, 44], 'b': [2, 3], 'z': [26]}\n",
    "print(newDict2) # prints {'a': [1, 2, 99], 'c': [3, 4, 44], 'b': [2, 3], 'z': [26]}\n",
    "print(newDict3) # prints {'a': [1, 2, 99], 'c': [3, 4, 44], 'b': [2, 3], 'z': [26], 'n': [14, 15]}"
   ]
  },
  {
   "cell_type": "markdown",
   "metadata": {
    "id": "x59l4qD5DQGq"
   },
   "source": [
    "### Sets"
   ]
  },
  {
   "cell_type": "markdown",
   "metadata": {
    "id": "WgZkcemlDQGq"
   },
   "source": [
    "A [set](https://docs.python.org/3/library/stdtypes.html#set-types-set-frozenset) is an unordered collection of distinct elements. As a simple example, consider the following:"
   ]
  },
  {
   "cell_type": "code",
   "execution_count": null,
   "metadata": {
    "id": "ZVx4dIQYDQGq",
    "outputId": "710ede95-fc8b-482f-d989-5f84ea355aa4"
   },
   "outputs": [
    {
     "name": "stdout",
     "output_type": "stream",
     "text": [
      "True\n",
      "False\n"
     ]
    }
   ],
   "source": [
    "animals = {'cat', 'dog'}\n",
    "print 'cat' in animals   # Check if an element is in a set; prints \"True\"\n",
    "print 'fish' in animals  # prints \"False\"\n"
   ]
  },
  {
   "cell_type": "code",
   "execution_count": null,
   "metadata": {
    "id": "na2Jxe-wDQGr",
    "outputId": "68cdc525-37b8-45df-b2f9-6d1cb1756619"
   },
   "outputs": [
    {
     "name": "stdout",
     "output_type": "stream",
     "text": [
      "True\n",
      "3\n"
     ]
    }
   ],
   "source": [
    "animals.add('fish')      # Add an element to a set\n",
    "print 'fish' in animals\n",
    "print len(animals)       # Number of elements in a set;"
   ]
  },
  {
   "cell_type": "code",
   "execution_count": null,
   "metadata": {
    "id": "eDd61Fr3DQGr",
    "outputId": "e17068a6-67e9-42f2-d496-2a6b2eddad74"
   },
   "outputs": [
    {
     "name": "stdout",
     "output_type": "stream",
     "text": [
      "3\n",
      "2\n"
     ]
    }
   ],
   "source": [
    "animals.add('cat')       # Adding an element that is already in the set does nothing\n",
    "print len(animals)       \n",
    "animals.remove('cat')    # Remove an element from a set\n",
    "print len(animals)       "
   ]
  },
  {
   "cell_type": "markdown",
   "metadata": {
    "id": "n_rVX2dODQGr"
   },
   "source": [
    "#### Looping over sets \n",
    "Iterating over a set has the same syntax as iterating over a list; however since sets are unordered, you cannot make assumptions about the order in which you visit the elements of the set:"
   ]
  },
  {
   "cell_type": "code",
   "execution_count": null,
   "metadata": {
    "id": "ijsNoV4jDQGs",
    "outputId": "e4a4e5ea-03f8-4f42-ad31-568331778b3c"
   },
   "outputs": [
    {
     "name": "stdout",
     "output_type": "stream",
     "text": [
      "0: cat\n",
      "1: dog\n",
      "2: fish\n"
     ]
    }
   ],
   "source": [
    "animals = {'cat', 'dog', 'fish'}\n",
    "for idx, animal in enumerate(animals):\n",
    "    print(\"{}: {}\".format(idx, animal))\n",
    "# Prints \"#1: fish\", \"#2: dog\", \"#3: cat\""
   ]
  },
  {
   "cell_type": "markdown",
   "metadata": {
    "id": "m0u7dRTyDQGs"
   },
   "source": [
    "#### Set comprehensions \n",
    "Like lists and dictionaries, we can easily construct sets using set comprehensions:"
   ]
  },
  {
   "cell_type": "code",
   "execution_count": null,
   "metadata": {
    "id": "H3sS60KODQGt",
    "outputId": "4edc764b-a501-46da-f1e9-492bb271d5c1"
   },
   "outputs": [
    {
     "name": "stdout",
     "output_type": "stream",
     "text": [
      "{0, 1, 2, 3, 4, 5}\n"
     ]
    }
   ],
   "source": [
    "from math import sqrt\n",
    "print({int(sqrt(x)) for x in range(30)})"
   ]
  },
  {
   "cell_type": "markdown",
   "metadata": {
    "id": "wWZZvEYTDQGt"
   },
   "source": [
    "#### Tuples"
   ]
  },
  {
   "cell_type": "markdown",
   "metadata": {
    "id": "5IerYd9XDQGu"
   },
   "source": [
    "A [tuple](https://docs.python.org/3/library/stdtypes.html#tuples) is an (immutable) ordered list of values. A tuple is in many ways similar to a list; one of the most important differences is that tuples can be used as keys in dictionaries and as elements of sets, while lists cannot. Here is a trivial example:"
   ]
  },
  {
   "cell_type": "code",
   "execution_count": null,
   "metadata": {
    "id": "oZ8PgfelDQGu",
    "outputId": "300852fc-4153-4183-bcb5-66e2c38a198a"
   },
   "outputs": [
    {
     "name": "stdout",
     "output_type": "stream",
     "text": [
      "<class 'tuple'>\n",
      "5\n",
      "1\n",
      "7\n"
     ]
    }
   ],
   "source": [
    "d = {(x, x + 1): x for x in range(10)}  # Create a dictionary with tuple keys\n",
    "t = (5, 6)       # Create a tuple\n",
    "print(type(t))\n",
    "print(d[t])       \n",
    "print(d[(1, 2)])\n",
    "print(d[(7, 8)])\n"
   ]
  },
  {
   "cell_type": "code",
   "execution_count": null,
   "metadata": {
    "id": "Ou71-Z_qDQGu",
    "outputId": "4f8b3f77-759e-4f0d-b281-f0fa563ae815"
   },
   "outputs": [
    {
     "ename": "TypeError",
     "evalue": "'tuple' object does not support item assignment",
     "output_type": "error",
     "traceback": [
      "\u001b[0;31m---------------------------------------------------------------------------\u001b[0m",
      "\u001b[0;31mTypeError\u001b[0m                                 Traceback (most recent call last)",
      "\u001b[0;32m<ipython-input-16-4f478e3d1f18>\u001b[0m in \u001b[0;36m<module>\u001b[0;34m()\u001b[0m\n\u001b[1;32m      1\u001b[0m \u001b[0;31m# this code should throw an error because the tuple object does not support assignment\u001b[0m\u001b[0;34m\u001b[0m\u001b[0;34m\u001b[0m\u001b[0m\n\u001b[0;32m----> 2\u001b[0;31m \u001b[0mt\u001b[0m\u001b[0;34m[\u001b[0m\u001b[0;36m0\u001b[0m\u001b[0;34m]\u001b[0m \u001b[0;34m=\u001b[0m \u001b[0;36m1\u001b[0m\u001b[0;34m\u001b[0m\u001b[0m\n\u001b[0m",
      "\u001b[0;31mTypeError\u001b[0m: 'tuple' object does not support item assignment"
     ]
    }
   ],
   "source": [
    "# this code should throw an error because the tuple object does not support assignment\n",
    "t[0] = 1 "
   ]
  },
  {
   "cell_type": "markdown",
   "metadata": {
    "id": "wx81lhZ7DQGv"
   },
   "source": [
    "You can **unpack** tuples:"
   ]
  },
  {
   "cell_type": "code",
   "execution_count": null,
   "metadata": {
    "id": "_3SSrqLzDQGv",
    "outputId": "8556d4f7-b57d-40b6-ec6f-21dbd5bd6670"
   },
   "outputs": [
    {
     "name": "stdout",
     "output_type": "stream",
     "text": [
      "(1, 2, 3, 4, 5, 6, 7, 8, 9, 10)\n",
      "1 2 3 4 5 6 7 8 9 10\n",
      "2 3 4 5 6 7 8 9 10\n",
      "(1, 2, 3)\n",
      "1 2 3\n"
     ]
    }
   ],
   "source": [
    "# Experimenting with how packing and unpacking tuples work\n",
    "test_tuple = (1,2,3,4,5,6,7,8,9,10)\n",
    "print(test_tuple)\n",
    "print(*test_tuple)\n",
    "print(*test_tuple[1:])\n",
    "\n",
    "test_tuple2 = (1, 2, 3)\n",
    "x, y, z = test_tuple2\n",
    "print(test_tuple2)\n",
    "print(x, y, z)"
   ]
  },
  {
   "cell_type": "code",
   "execution_count": null,
   "metadata": {
    "id": "TcEjqOwqDQGw",
    "outputId": "64adf79b-9ace-496a-8361-83eb1bfc8fab"
   },
   "outputs": [
    {
     "name": "stdout",
     "output_type": "stream",
     "text": [
      "1 3 5 7\n"
     ]
    }
   ],
   "source": [
    "# experimenting with unpacking tuples\n",
    "testTuple = (1, 3, 5, 7)\n",
    "one, two, three, four = testTuple\n",
    "print(one, two, three, four)"
   ]
  },
  {
   "cell_type": "markdown",
   "metadata": {
    "id": "GOHj28viDQGx"
   },
   "source": [
    "## Functions"
   ]
  },
  {
   "cell_type": "markdown",
   "metadata": {
    "id": "N2c3SJnzDQGx"
   },
   "source": [
    "Python [functions](https://docs.python.org/3/library/stdtypes.html#functions) are defined using the `def` keyword. For example:"
   ]
  },
  {
   "cell_type": "code",
   "execution_count": null,
   "metadata": {
    "id": "Krpb6qMcDQGx",
    "outputId": "71da2e7f-97ec-4d75-9eba-da5238154bc6"
   },
   "outputs": [
    {
     "name": "stdout",
     "output_type": "stream",
     "text": [
      "-1 is negative\n",
      "0 is zero\n",
      "1 is positive\n"
     ]
    }
   ],
   "source": [
    "def sign(x):\n",
    "    if x > 0:\n",
    "        return 'positive'\n",
    "    elif x < 0:\n",
    "        return 'negative'\n",
    "    else:\n",
    "        return 'zero'\n",
    "\n",
    "for x in range(-1, 2):\n",
    "    print(\"{} is {}\".format(x, sign(x)))"
   ]
  },
  {
   "cell_type": "markdown",
   "metadata": {
    "id": "1HoUq9pRDQGy"
   },
   "source": [
    "We will often define functions to take **optional keyword arguments** where we supply a default if the argument is not passed, like this:"
   ]
  },
  {
   "cell_type": "code",
   "execution_count": null,
   "metadata": {
    "id": "VnX6K2L8DQGy",
    "outputId": "f2aa5343-61ab-41ee-efa2-142d804c299f"
   },
   "outputs": [
    {
     "name": "stdout",
     "output_type": "stream",
     "text": [
      "Hello Bob\n",
      "HELLO FRED\n",
      "Hello Jon\n"
     ]
    }
   ],
   "source": [
    "def hello(name, loud=False):\n",
    "    if loud:\n",
    "        print('HELLO', name.upper())\n",
    "    else:\n",
    "        print('Hello', name)\n",
    "\n",
    "hello('Bob')\n",
    "hello('Fred', loud=True)\n",
    "hello('Jon', loud=False)"
   ]
  },
  {
   "cell_type": "markdown",
   "metadata": {
    "id": "Hbws0CF_DQGz"
   },
   "source": [
    "We can do something even more impressive and flexible, we can use the `*` as a prefix to accept an **arbitrary number of arguments**"
   ]
  },
  {
   "cell_type": "code",
   "execution_count": null,
   "metadata": {
    "id": "XMbPPwlpDQG0",
    "outputId": "3c8bf4a1-1cae-41bc-f1f3-b2c4417a9ea9"
   },
   "outputs": [
    {
     "name": "stdout",
     "output_type": "stream",
     "text": [
      "args: (3,)\n",
      "6\n",
      "args: (3, 4)\n",
      "10\n"
     ]
    }
   ],
   "source": [
    "# Here, we specify a function can be called with an arbitrary number of arguments. \n",
    "# These arguments will be wrapped up in a tuple. Before the variable number of arguments, \n",
    "# zero or more normal arguments may occur.\n",
    "# See: https://docs.python.org/3/tutorial/controlflow.html\n",
    "\n",
    "def sum(x, y, *args):\n",
    "    print(\"args:\", args)\n",
    "    sum_args = 0\n",
    "    for num in args:\n",
    "        sum_args += num\n",
    "    return x + y + sum_args \n",
    "\n",
    "s = sum(1,2,3)\n",
    "print(s)\n",
    "s = sum(1,2,3,4)\n",
    "print(s)"
   ]
  },
  {
   "cell_type": "markdown",
   "metadata": {
    "id": "wQTXdA4qDQG1"
   },
   "source": [
    "As you might imagine, `*args` tends to be last in the list of formal parameters, because they scoop up all remaining input arguments that are passed to the function. Any formal parameters which occur after the `*args` parameter are ‘keyword-only’ arguments, meaning that they can only be used as keywords rather than positional arguments. For example:"
   ]
  },
  {
   "cell_type": "code",
   "execution_count": null,
   "metadata": {
    "id": "bR4oJU8fDQG1",
    "outputId": "951f5cb9-e692-46c2-ad4b-56de37cc559b"
   },
   "outputs": [
    {
     "name": "stdout",
     "output_type": "stream",
     "text": [
      "3\n",
      "2\n",
      "10\n",
      "24\n"
     ]
    }
   ],
   "source": [
    "def calc(x, y, *args, operation=\"sum\"):\n",
    "    if(operation == \"sum\"):\n",
    "        sum_args = 0\n",
    "        for num in args:\n",
    "            sum_args += num\n",
    "        return x + y + sum_args\n",
    "    elif(operation == \"mult\"):\n",
    "        mult_args = 1\n",
    "        for num in args:\n",
    "            mult_args *= num\n",
    "        return x * y * mult_args\n",
    "    else:\n",
    "        raise Exception('No such operation ' + operation)\n",
    "        \n",
    "\n",
    "s = calc(1,2)\n",
    "print(s)                            # prints 3 (1 + 2)\n",
    "s = calc(1,2,operation=\"mult\")    \n",
    "print(s)                            # prints 2 (1 * 2)\n",
    "s = calc(1,2,3,4)\n",
    "print(s)                            # prints 10 (1 + 2 + 3 + 4)\n",
    "s = calc(1,2,3,4,operation=\"mult\")\n",
    "print(s)                            # prints 24 (1 * 2 * 3 * 4)"
   ]
  },
  {
   "cell_type": "markdown",
   "metadata": {
    "id": "nQhCD_FoDQG1"
   },
   "source": [
    "When a final formal parameter of the form `**name` is present, it receives a dictionary containing all keyword arguments except for those corresponding to a formal parameter. This may be combined with a formal parameter of the form `*name` (described previously) but `*name` must occur before `**name`. I tend to see `*name` written as `*args` and `**name` as `**kwargs` For example:"
   ]
  },
  {
   "cell_type": "code",
   "execution_count": null,
   "metadata": {
    "id": "B803awhfDQG2",
    "outputId": "7b57f8a6-ab5f-4c9d-94e3-fadac3b50b21"
   },
   "outputs": [
    {
     "name": "stdout",
     "output_type": "stream",
     "text": [
      "sum\n",
      "3\n",
      "mult\n",
      "2\n",
      "10\n",
      "24\n"
     ]
    }
   ],
   "source": [
    "def calc(x, y, *args, **kwargs):\n",
    "    if 'operation' not in kwargs:\n",
    "        raise Exception(\"The 'operation' kwarg must be specified\") \n",
    "    \n",
    "    operation = kwargs['operation']\n",
    "    if 'debug' in kwargs and kwargs['debug'] == True:\n",
    "        print(operation)\n",
    "    \n",
    "    if(operation == \"sum\"):\n",
    "        sum_args = 0\n",
    "        for num in args:\n",
    "            sum_args += num\n",
    "        return x + y + sum_args\n",
    "    elif(operation == \"mult\"):\n",
    "        mult_args = 1\n",
    "        for num in args:\n",
    "            mult_args *= num\n",
    "        return x * y * mult_args\n",
    "    else:\n",
    "        raise Exception('No such operation ' + operation)\n",
    "        \n",
    "s = calc(1,2,operation=\"sum\", debug=True)\n",
    "print(s)                            # prints 3 (1 + 2)\n",
    "s = calc(1,2,operation=\"mult\", debug=True)    \n",
    "print(s)                            # prints 2 (1 * 2)\n",
    "s = calc(1,2,3,4,operation=\"sum\")\n",
    "print(s)                            # prints 10 (1 + 2 + 3 + 4)\n",
    "s = calc(1,2,3,4,operation=\"mult\")\n",
    "print(s)                            # prints 24 (1 * 2 * 3 * 4)"
   ]
  },
  {
   "cell_type": "code",
   "execution_count": null,
   "metadata": {
    "id": "JeMmXvKLDQG3",
    "outputId": "2631cf85-9e37-4b51-f148-cb17818f86d2"
   },
   "outputs": [
    {
     "name": "stdout",
     "output_type": "stream",
     "text": [
      "arg1=hello\n",
      "radius=20\n",
      "optimization_threshold=15\n"
     ]
    }
   ],
   "source": [
    "# another example\n",
    "def testargs(arg1, **kwargs):\n",
    "    print(\"arg1={}\".format(arg1))\n",
    "    if kwargs is not None:\n",
    "        for key, value in kwargs.items():\n",
    "            print (\"{}={}\".format(key, value))\n",
    "            \n",
    "testargs(\"hello\", radius=20, optimization_threshold=15)"
   ]
  },
  {
   "cell_type": "markdown",
   "metadata": {
    "id": "v8KYACpIDQG3"
   },
   "source": [
    "## Classes"
   ]
  },
  {
   "cell_type": "markdown",
   "metadata": {
    "id": "d8znwj5EDQG4"
   },
   "source": [
    "The syntax for defining classes in Python is as follows:"
   ]
  },
  {
   "cell_type": "code",
   "execution_count": null,
   "metadata": {
    "id": "G8VxCq5FDQG4",
    "outputId": "ced02368-a88f-41f5-8032-05416c22c56f"
   },
   "outputs": [
    {
     "name": "stdout",
     "output_type": "stream",
     "text": [
      "Hello Fred\n",
      "HELLO FRED\n",
      "<__main__.Greeter object at 0x104e08128>\n"
     ]
    }
   ],
   "source": [
    "class Greeter:\n",
    "\n",
    "    # Constructor (yes, a weird format but you'll get used to it)\n",
    "    def __init__(self, name):\n",
    "        self.name = name  # Create an instance variable\n",
    "\n",
    "    # Instance method\n",
    "    def greet(self, loud=False):\n",
    "        if loud:\n",
    "            print('HELLO', self.name.upper())\n",
    "        else:\n",
    "            print('Hello', self.name)\n",
    "\n",
    "g = Greeter('Fred')  # Construct an instance of the Greeter class\n",
    "g.greet()            # Call an instance method; prints \"Hello, Fred\"\n",
    "g.greet(loud=True)   # Call an instance method; prints \"HELLO, FRED!\"\n",
    "print(g)"
   ]
  },
  {
   "cell_type": "markdown",
   "metadata": {
    "id": "RpjmK-pYDQG5"
   },
   "source": [
    "Just like in Java, you can override the `__str__` method (like Java's `toString`):"
   ]
  },
  {
   "cell_type": "code",
   "execution_count": null,
   "metadata": {
    "id": "hN_nnBqoDQG5",
    "outputId": "41c5cd6c-a487-4d31-832a-385b0962bf69"
   },
   "outputs": [
    {
     "name": "stdout",
     "output_type": "stream",
     "text": [
      "My name: Jon\n"
     ]
    }
   ],
   "source": [
    "class MyClass:\n",
    "    # Constructor \n",
    "    def __init__(self, name):\n",
    "        self.name = name  # Create an instance variable\n",
    "        \n",
    "    def __str__(self):\n",
    "        # This is equivalent to the Java toString() override\n",
    "        return \"My name: \" + self.name\n",
    "    \n",
    "mc = MyClass(\"Jon\")\n",
    "print(mc)"
   ]
  },
  {
   "cell_type": "markdown",
   "metadata": {
    "id": "f3A7uBKlDQG5"
   },
   "source": [
    "If you don't override the `__str__` method, then the default is to print out a memory reference for the class:"
   ]
  },
  {
   "cell_type": "code",
   "execution_count": null,
   "metadata": {
    "id": "wCieHF28DQG6",
    "outputId": "d3588993-3c64-421c-80a2-259994613103"
   },
   "outputs": [
    {
     "name": "stdout",
     "output_type": "stream",
     "text": [
      "<__main__.MyClass2 object at 0x000001B63AC2DE80>\n"
     ]
    }
   ],
   "source": [
    "class MyClass2:\n",
    "    # Constructor \n",
    "    def __init__(self, name):\n",
    "        self.name = name  # Create an instance variable\n",
    "    \n",
    "mc2 = MyClass2(\"Jon\")\n",
    "print(mc2)"
   ]
  },
  {
   "cell_type": "markdown",
   "metadata": {
    "id": "R_o2omB1DQG6"
   },
   "source": [
    "Similar to JavaScript, you can add in class instance variables at anytime and anyplace. Yikes!"
   ]
  },
  {
   "cell_type": "code",
   "execution_count": null,
   "metadata": {
    "id": "LF3oukskDQG6",
    "outputId": "63b8f120-edd0-4618-f68d-a53d43d3ee15"
   },
   "outputs": [
    {
     "name": "stdout",
     "output_type": "stream",
     "text": [
      "5\n",
      "7\n",
      "<__main__.DummyClass object at 0x104d2cf28>\n",
      "{'testVar': 5, 'newVar': 7}\n",
      "Can you believe we can do this? Who made the rules around here?\n",
      "{'testVar': 5, 'newVar': 7, 'test_str': 'Can you believe we can do this? Who made the rules around here?'}\n"
     ]
    }
   ],
   "source": [
    "# Playing around with classes\n",
    "class DummyClass:\n",
    "    def __init__(self, variable):\n",
    "        self.testVar = variable\n",
    "        \n",
    "\n",
    "dummy = DummyClass(5)\n",
    "print(dummy.testVar)\n",
    "\n",
    "dummy.newVar = 7     # add in a new instance variable\n",
    "print(dummy.newVar)\n",
    "print(dummy)\n",
    "print(vars(dummy))\n",
    "\n",
    "dummy.test_str = \"Can you believe we can do this? Who made the rules around here?\"\n",
    "print(dummy.test_str)\n",
    "print(vars(dummy))"
   ]
  },
  {
   "cell_type": "markdown",
   "metadata": {
    "id": "7nVh080mDQG7"
   },
   "source": [
    "### Class Variables vs. Class Instance Variables"
   ]
  },
  {
   "cell_type": "markdown",
   "metadata": {
    "id": "xfXkSpe4DQG7"
   },
   "source": [
    "There is a **big difference** between *class variables* and *class instance variables* (see [Python docs](https://docs.python.org/3/tutorial/classes.html#class-and-instance-variables)), and it's easy to make a mistake here--especially if you're used to other object-oriented languages.\n",
    "\n",
    "*Class variables* are variables shared across all instantiations of that class object--similar, for example, to static member variables in C#. In contrast, *class instance variables* are the more traditional member variables of a class. Let's look at an example.\n"
   ]
  },
  {
   "cell_type": "code",
   "execution_count": null,
   "metadata": {
    "id": "NYSvS9uyDQG7",
    "outputId": "6e48bbd3-1d9f-4ca0-ac77-34df2fcc6184"
   },
   "outputs": [
    {
     "name": "stdout",
     "output_type": "stream",
     "text": [
      "canine\n",
      "canine\n",
      "Fido\n",
      "Buddy\n"
     ]
    }
   ],
   "source": [
    "class Dog:\n",
    "\n",
    "    kind = 'canine'         # class variable shared by all instances\n",
    "\n",
    "    def __init__(self, name):\n",
    "        self.name = name    # instance variable unique to each instance\n",
    "        \n",
    "d = Dog('Fido')\n",
    "e = Dog('Buddy')\n",
    "print(d.kind)                  # shared by all dogs\n",
    "print(e.kind)                  # shared by all dogs\n",
    "print(d.name)                  # unique to d\n",
    "print(e.name)                  # unique to e"
   ]
  },
  {
   "cell_type": "markdown",
   "metadata": {
    "id": "aRKyt8r_DQG8"
   },
   "source": [
    "As discussed in [A Word About Names and Objects](https://docs.python.org/3/tutorial/classes.html#tut-object), shared data can have possibly surprising effects with involving [mutable objects](https://docs.python.org/3/glossary.html#term-mutable) such as lists and dictionaries. For example, the tricks list in the following code should not be used as a class variable because just a single list would be shared by all Dog instances:"
   ]
  },
  {
   "cell_type": "code",
   "execution_count": null,
   "metadata": {
    "id": "lG59toclDQG9",
    "outputId": "e994154b-ba4e-4ae6-d962-43b8928d2d09"
   },
   "outputs": [
    {
     "name": "stdout",
     "output_type": "stream",
     "text": [
      "['roll over', 'play dead']\n"
     ]
    }
   ],
   "source": [
    "class Dog:\n",
    "\n",
    "    tricks = []             # mistaken use of a class variable\n",
    "\n",
    "    def __init__(self, name):\n",
    "        self.name = name\n",
    "\n",
    "    def add_trick(self, trick):\n",
    "        self.tricks.append(trick)\n",
    "\n",
    "d = Dog('Fido')\n",
    "e = Dog('Buddy')\n",
    "d.add_trick('roll over')\n",
    "e.add_trick('play dead')\n",
    "print(d.tricks)                # unexpectedly shared by all dogs"
   ]
  },
  {
   "cell_type": "markdown",
   "metadata": {
    "id": "28KKU5mqDQG9"
   },
   "source": [
    "Correct design of the class should use an instance variable instead:"
   ]
  },
  {
   "cell_type": "code",
   "execution_count": null,
   "metadata": {
    "id": "mDnvXSbaDQG9",
    "outputId": "89519534-d164-4f28-9e99-5fe2dc8f2d35"
   },
   "outputs": [
    {
     "name": "stdout",
     "output_type": "stream",
     "text": [
      "['roll over']\n",
      "['play dead']\n"
     ]
    }
   ],
   "source": [
    "class Dog:\n",
    "\n",
    "    def __init__(self, name):\n",
    "        self.name = name\n",
    "        self.tricks = []    # creates a new empty list for each dog\n",
    "\n",
    "    def add_trick(self, trick):\n",
    "        self.tricks.append(trick)\n",
    "\n",
    "d = Dog('Fido')\n",
    "e = Dog('Buddy')\n",
    "d.add_trick('roll over')\n",
    "e.add_trick('play dead')\n",
    "print(d.tricks)\n",
    "print(e.tricks)"
   ]
  },
  {
   "cell_type": "markdown",
   "metadata": {
    "id": "1YIuVoZXDQG-"
   },
   "source": [
    "Here's another example. Does the code do what you think it should? Why or why not?"
   ]
  },
  {
   "cell_type": "code",
   "execution_count": null,
   "metadata": {
    "id": "gOw_lcM3DQG-",
    "outputId": "14f32b6e-c4d8-4e0d-a277-240834bd0a2d"
   },
   "outputs": [
    {
     "name": "stdout",
     "output_type": "stream",
     "text": [
      "dummy1: class_var='This is shared across all references.' member_var='Example member variable'\n",
      "dummy2: class_var='This is shared across all references.' member_var='Hello World!'\n",
      "dummy1: class_var='Changed it!' member_var='Example member variable'\n",
      "dummy2: class_var='Changed it!' member_var='Hello World!'\n",
      "dummy1: class_var='Changed it!' member_var='Goodbye!'\n",
      "dummy2: class_var='Changed it again!' member_var='Goodnight!'\n",
      "dummy1: class_var='Changed it a third time!' member_var='Goodbye!'\n",
      "dummy2: class_var='Changed it again!' member_var='Goodnight!'\n"
     ]
    }
   ],
   "source": [
    "class DummyClass2:\n",
    "    class_var = \"This is shared across all references.\"\n",
    "    \n",
    "    def __init__(self, msg):\n",
    "        self.member_var = msg\n",
    "\n",
    "dummy1 = DummyClass2(\"Example member variable\")\n",
    "dummy2 = DummyClass2(\"Hello World!\")\n",
    "\n",
    "print(\"dummy1: class_var='{}' member_var='{}'\".format(dummy1.class_var, dummy1.member_var))\n",
    "print(\"dummy2: class_var='{}' member_var='{}'\".format(dummy2.class_var, dummy2.member_var))\n",
    "\n",
    "DummyClass2.class_var = \"Changed it!\"\n",
    "\n",
    "print(\"dummy1: class_var='{}' member_var='{}'\".format(dummy1.class_var, dummy1.member_var))\n",
    "print(\"dummy2: class_var='{}' member_var='{}'\".format(dummy2.class_var, dummy2.member_var))\n",
    "\n",
    "dummy1.member_var = \"Goodbye!\"\n",
    "dummy2.member_var = \"Goodnight!\"\n",
    "dummy2.class_var = \"Changed it again!\" # but now overrided the class variable as an instance class var for dummy2\n",
    "\n",
    "print(\"dummy1: class_var='{}' member_var='{}'\".format(dummy1.class_var, dummy1.member_var))\n",
    "print(\"dummy2: class_var='{}' member_var='{}'\".format(dummy2.class_var, dummy2.member_var))\n",
    "\n",
    "DummyClass2.class_var = \"Changed it a third time!\"\n",
    "\n",
    "print(\"dummy1: class_var='{}' member_var='{}'\".format(dummy1.class_var, dummy1.member_var))\n",
    "print(\"dummy2: class_var='{}' member_var='{}'\".format(dummy2.class_var, dummy2.member_var))"
   ]
  },
  {
   "cell_type": "markdown",
   "metadata": {
    "id": "KUXj8V50DQG-"
   },
   "source": [
    "### Dynamically Querying Objects for Member Variables and Functions\n",
    "In some languages like C#, you can use [Reflection](https://docs.microsoft.com/en-us/dotnet/framework/reflection-and-codedom/dynamically-loading-and-using-types) to dynamically get information on a class instance like method and variable names and then programmatically access those variables. This is far simpler in Python using the `getattr` method. For example:"
   ]
  },
  {
   "cell_type": "code",
   "execution_count": null,
   "metadata": {
    "id": "mUajtvajDQG-",
    "outputId": "aab38e2f-2da6-4a3c-8868-3979f231df9a"
   },
   "outputs": [
    {
     "name": "stdout",
     "output_type": "stream",
     "text": [
      "Jon 10,000\n",
      "Jon\n",
      "Jon\n"
     ]
    }
   ],
   "source": [
    "class Employee:\n",
    "    def __init__(self, name, salary):\n",
    "        self.name = name\n",
    "        self.salary = salary\n",
    "        \n",
    "    def __str__(self):\n",
    "        return \"{} {}\".format(self.name, self.salary)\n",
    "    \n",
    "    def dummy_method(self):\n",
    "        print(\"Hello World!\")\n",
    "\n",
    "employee = Employee(\"Jon\", \"10,000\")\n",
    "print(employee)\n",
    "print(employee.name)\n",
    "print(getattr(employee, 'name')) # here, I am accessing the member variable employee via getattr\n"
   ]
  },
  {
   "cell_type": "markdown",
   "metadata": {
    "id": "8KT8nzF1DQG_"
   },
   "source": [
    "You can enumerate over all attributes of an object using `dir(obj)`:"
   ]
  },
  {
   "cell_type": "code",
   "execution_count": null,
   "metadata": {
    "id": "bdUrEyW4DQG_",
    "outputId": "92420f88-0011-47a5-ca66-c089d9906c68"
   },
   "outputs": [
    {
     "name": "stdout",
     "output_type": "stream",
     "text": [
      "['__class__', '__delattr__', '__dict__', '__dir__', '__doc__', '__eq__', '__format__', '__ge__', '__getattribute__', '__gt__', '__hash__', '__init__', '__init_subclass__', '__le__', '__lt__', '__module__', '__ne__', '__new__', '__reduce__', '__reduce_ex__', '__repr__', '__setattr__', '__sizeof__', '__str__', '__subclasshook__', '__weakref__', 'dummy_method', 'name', 'salary']\n"
     ]
    }
   ],
   "source": [
    "print(dir(employee))"
   ]
  },
  {
   "cell_type": "markdown",
   "metadata": {
    "id": "EuyF08piDQG_"
   },
   "source": [
    "If you only want member variables, use `vars(obj)`:"
   ]
  },
  {
   "cell_type": "code",
   "execution_count": null,
   "metadata": {
    "id": "n0JTOtNeDQHA",
    "outputId": "41b38742-b98f-433e-b466-9d1e5d73706b"
   },
   "outputs": [
    {
     "name": "stdout",
     "output_type": "stream",
     "text": [
      "{'name': 'Jon', 'salary': '10,000'}\n",
      "name: Jon\n",
      "salary: 10,000\n"
     ]
    }
   ],
   "source": [
    "print(vars(employee))\n",
    "\n",
    "# Iterate through all the member variables and print their values\n",
    "for var_name in vars(employee):\n",
    "    print(\"{}: {}\".format(var_name, getattr(employee, var_name)))"
   ]
  },
  {
   "cell_type": "markdown",
   "metadata": {
    "id": "R9GppQxmDQHA"
   },
   "source": [
    "You can also do this for methods and invoke methods dynamically"
   ]
  },
  {
   "cell_type": "code",
   "execution_count": null,
   "metadata": {
    "id": "PhTftv66DQHA",
    "outputId": "96c03c81-45f2-498f-84ad-86b2db242504"
   },
   "outputs": [
    {
     "name": "stdout",
     "output_type": "stream",
     "text": [
      "Hello World!\n"
     ]
    }
   ],
   "source": [
    "func = getattr(employee, 'dummy_method')\n",
    "func()"
   ]
  },
  {
   "cell_type": "markdown",
   "metadata": {
    "id": "afeLNcMnDQHB"
   },
   "source": [
    "# Misc"
   ]
  },
  {
   "cell_type": "markdown",
   "metadata": {
    "id": "daSj65u7DQHB"
   },
   "source": [
    "## Random"
   ]
  },
  {
   "cell_type": "code",
   "execution_count": null,
   "metadata": {
    "id": "czpAGHvkDQHB",
    "outputId": "30335301-a0e0-4c8b-9b87-c5b7dc35a63d"
   },
   "outputs": [
    {
     "name": "stdout",
     "output_type": "stream",
     "text": [
      "[1, 5, 5, 2, 10, 5, 10, 10, 9]\n"
     ]
    }
   ],
   "source": [
    "import random\n",
    "\n",
    "x = [random.randint(1,10) for i in range(1,10)]\n",
    "print(x)"
   ]
  },
  {
   "cell_type": "code",
   "execution_count": null,
   "metadata": {
    "id": "o-9arDaxDQHC",
    "outputId": "d00970a6-6e30-4c0c-eb23-c5adc45d4b4e"
   },
   "outputs": [
    {
     "name": "stdout",
     "output_type": "stream",
     "text": [
      "[7, 5, 3, 4, 4, 6, 9, 2, 8]\n",
      "[4, 6, 9, 4, 7, 2, 10, 10, 2]\n",
      "[6, 2, 4, 1, 1, 1, 1, 5, 4]\n",
      "[7, 5, 3, 4, 4, 6, 9, 2, 8]\n"
     ]
    }
   ],
   "source": [
    "seed = \"myseed\" # can be a number or string. when used, random will generate same series of numbers\n",
    "random.seed(seed)\n",
    "n = 10\n",
    "x = [random.randint(1,n) for i in range(1,n)]\n",
    "print(x)\n",
    "\n",
    "random.seed() # clear the sead\n",
    "y = [random.randint(1,n) for i in range(1,n)]\n",
    "print(y)\n",
    "\n",
    "random.seed() # clear the seed again but should be new random seq\n",
    "y = [random.randint(1,n) for i in range(1,n)]\n",
    "print(y)\n",
    "\n",
    "random.seed(seed)\n",
    "z = [random.randint(1,n) for i in range(1,n)]\n",
    "print(z)"
   ]
  },
  {
   "cell_type": "code",
   "execution_count": null,
   "metadata": {
    "id": "iaZ50g-GDQHD",
    "outputId": "a0ff70b6-e249-47e6-d35f-4affff53a1ee"
   },
   "outputs": [
    {
     "name": "stdout",
     "output_type": "stream",
     "text": [
      "[7, 5, 3, 4, 4, 6, 9, 2, 8]\n"
     ]
    }
   ],
   "source": [
    "random.seed(\"myseed\")\n",
    "x = [random.randint(1,10) for i in range(1,10)]\n",
    "print(x)"
   ]
  },
  {
   "cell_type": "markdown",
   "metadata": {
    "id": "IXPuGH_hDQHD"
   },
   "source": [
    "# Future TODOs"
   ]
  },
  {
   "cell_type": "markdown",
   "metadata": {
    "id": "85n0PCfjDQHE"
   },
   "source": [
    "- Add in how to import and use libraries (we are doing this implicitly all over the place but we should have some explicit examples of how to do this)\n",
    "- The ml4a page has an \"Intro to Python\" Jupyter Notebook--skim it to see if there is anything relevant to pull over into this notebook"
   ]
  },
  {
   "cell_type": "code",
   "execution_count": null,
   "metadata": {
    "id": "Xz1N_YLwDQHE"
   },
   "outputs": [],
   "source": []
  }
 ],
 "metadata": {
  "colab": {
   "name": "IntroToPython.ipynb",
   "provenance": []
  },
  "kernelspec": {
   "display_name": "Python 3",
   "language": "python",
   "name": "python3"
  },
  "language_info": {
   "codemirror_mode": {
    "name": "ipython",
    "version": 3
   },
   "file_extension": ".py",
   "mimetype": "text/x-python",
   "name": "python",
   "nbconvert_exporter": "python",
   "pygments_lexer": "ipython3",
   "version": "3.9.0"
  },
  "toc": {
   "base_numbering": 1,
   "nav_menu": {},
   "number_sections": true,
   "sideBar": true,
   "skip_h1_title": false,
   "title_cell": "Table of Contents",
   "title_sidebar": "Contents",
   "toc_cell": false,
   "toc_position": {},
   "toc_section_display": true,
   "toc_window_display": true
  }
 },
 "nbformat": 4,
 "nbformat_minor": 1
}
